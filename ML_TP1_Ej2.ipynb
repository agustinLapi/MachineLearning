{
  "nbformat": 4,
  "nbformat_minor": 0,
  "metadata": {
    "colab": {
      "name": "ML-TP1-Ej2.ipynb",
      "provenance": [],
      "authorship_tag": "ABX9TyMwkrIpg59ef9pvyiKQEqqX",
      "include_colab_link": true
    },
    "kernelspec": {
      "name": "python3",
      "display_name": "Python 3"
    },
    "language_info": {
      "name": "python"
    }
  },
  "cells": [
    {
      "cell_type": "markdown",
      "metadata": {
        "id": "view-in-github",
        "colab_type": "text"
      },
      "source": [
        "<a href=\"https://colab.research.google.com/github/agustinLapi/MachineLearning/blob/main/ML_TP1_Ej2.ipynb\" target=\"_parent\"><img src=\"https://colab.research.google.com/assets/colab-badge.svg\" alt=\"Open In Colab\"/></a>"
      ]
    },
    {
      "cell_type": "code",
      "metadata": {
        "colab": {
          "base_uri": "https://localhost:8080/"
        },
        "id": "zLHK-yNluXMu",
        "outputId": "fdf8c05e-12fc-4c13-e592-9d59190dcc64"
      },
      "source": [
        "#Importamos \n",
        "from sklearn.datasets import make_classification\n",
        "from sklearn.linear_model import LogisticRegression\n",
        "from sklearn.model_selection import train_test_split\n",
        "from sklearn.metrics import roc_curve\n",
        "from sklearn.metrics import roc_auc_score\n",
        "from matplotlib import pyplot\n",
        "# Generamos un dataset de dos clases (desbalanceadas en un 40:60)\n",
        "\n",
        "#X, y = make_classification(n_samples=100, n_classes=2, random_state=1, flip_y=0)\n",
        "\n",
        "X, y = make_classification(n_samples=50, n_classes=2, weights=[0.40,0.60], random_state=1, flip_y=0)\n",
        "\n",
        "X_mean, X_std = X.mean(), X.std()\n",
        "print(\"X mean:{} std:{}\".format(X_mean, X_std))\n",
        "y_mean, y_std = y.mean(), y.std()\n",
        "print(\"y mean:{} std:{}\".format(y_mean, y_std))\n",
        "\n"
      ],
      "execution_count": 1,
      "outputs": [
        {
          "output_type": "stream",
          "text": [
            "X mean:0.03134485667251397 std:1.031566188140402\n",
            "y mean:0.6 std:0.4898979485566356\n"
          ],
          "name": "stdout"
        }
      ]
    },
    {
      "cell_type": "code",
      "metadata": {
        "colab": {
          "base_uri": "https://localhost:8080/",
          "height": 313
        },
        "id": "0S-pYa4sHeDq",
        "outputId": "7dd54ab5-bf92-4b3c-d9d9-e9c3463ca41f"
      },
      "source": [
        "# Dividimos en training y test\n",
        "trainX, testX, trainy, testy = train_test_split(X, y, test_size=0.5, random_state=2)\n",
        "#Generamos un clasificador sin entrenar , que asignará 0 a todo\n",
        "ns_probs = [0 for _ in range(len(testy))]\n",
        "# Entrenamos nuestro modelo de reg log\n",
        "model = LogisticRegression(solver='lbfgs')\n",
        "model.fit(trainX, trainy)\n",
        "# Predecimos las probabilidades\n",
        "lr_probs = model.predict_proba(testX)\n",
        "#Nos quedamos con las probabilidades de la clase positiva (la probabilidad de 1)\n",
        "lr_probs = lr_probs[:, 1]\n",
        "# Calculamos el AUC\n",
        "ns_auc = roc_auc_score(testy, ns_probs)\n",
        "lr_auc = roc_auc_score(testy, lr_probs)\n",
        "# Imprimimos en pantalla\n",
        "print('Sin entrenar: ROC AUC=%.3f' % (ns_auc))\n",
        "print('Regresión Logística: ROC AUC=%.3f' % (lr_auc))\n",
        "# Calculamos las curvas ROC\n",
        "ns_fpr, ns_tpr, _ = roc_curve(testy, ns_probs)\n",
        "lr_fpr, lr_tpr, _ = roc_curve(testy, lr_probs)\n",
        "# Pintamos las curvas ROC\n",
        "pyplot.plot(ns_fpr, ns_tpr, linestyle='--', label='Sin entrenar')\n",
        "pyplot.plot(lr_fpr, lr_tpr, marker='.', label='Regresión Logística')\n",
        "# Etiquetas de los ejes\n",
        "pyplot.xlabel('Tasa de Falsos Positivos')\n",
        "pyplot.ylabel('Tasa de Verdaderos Positivos')\n",
        "pyplot.legend()\n",
        "pyplot.show()\n"
      ],
      "execution_count": 3,
      "outputs": [
        {
          "output_type": "stream",
          "text": [
            "Sin entrenar: ROC AUC=0.500\n",
            "Regresión Logística: ROC AUC=0.812\n"
          ],
          "name": "stdout"
        },
        {
          "output_type": "display_data",
          "data": {
            "image/png": "[encoded data removed]",
            "text/plain": [
              "<Figure size 432x288 with 1 Axes>"
            ]
          },
          "metadata": {
            "tags": [],
            "needs_background": "light"
          }
        }
      ]
    }
  ]
}
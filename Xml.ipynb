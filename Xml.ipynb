{
  "nbformat": 4,
  "nbformat_minor": 0,
  "metadata": {
    "colab": {
      "name": "Xml.ipynb",
      "provenance": [],
      "collapsed_sections": [],
      "authorship_tag": "ABX9TyNUV86TWNC7dVWvKaTTA9M/",
      "include_colab_link": true
    },
    "kernelspec": {
      "name": "python3",
      "display_name": "Python 3"
    },
    "language_info": {
      "name": "python"
    }
  },
  "cells": [
    {
      "cell_type": "markdown",
      "metadata": {
        "id": "view-in-github",
        "colab_type": "text"
      },
      "source": [
        "<a href=\"https://colab.research.google.com/github/agustinLapi/MachineLearning/blob/main/Xml.ipynb\" target=\"_parent\"><img src=\"https://colab.research.google.com/assets/colab-badge.svg\" alt=\"Open In Colab\"/></a>"
      ]
    },
    {
      "cell_type": "code",
      "metadata": {
        "colab": {
          "base_uri": "https://localhost:8080/"
        },
        "id": "fw3oA6lsmgRj",
        "outputId": "5d815028-f16b-4d94-baad-66b0dd27dbd4"
      },
      "source": [
        "from google.colab import drive\n",
        "drive.mount('/content/gdrive')\n"
      ],
      "execution_count": 1,
      "outputs": [
        {
          "output_type": "stream",
          "text": [
            "Mounted at /content/gdrive\n"
          ],
          "name": "stdout"
        }
      ]
    },
    {
      "cell_type": "code",
      "metadata": {
        "colab": {
          "base_uri": "https://localhost:8080/"
        },
        "id": "DyBNWM9Wtdq-",
        "outputId": "10ff0e22-4df6-496a-91de-052b13eaa1ed"
      },
      "source": [
        "import xml.etree.ElementTree as ET\n",
        "from xml.dom import minidom\n",
        "\n",
        "path = \"/content/gdrive/My Drive/Sequencer_Files/sequencer_background.xml\"\n",
        "\n",
        "\n",
        "xmldoc = minidom.parse(path)\n",
        "print (xmldoc.nodeName)\n",
        "\n",
        "print(xmldoc)\n",
        "\n",
        "\n",
        "variables = xmldoc.getElementsByTagName(\"variables\")[0]\n",
        "\n",
        "tree = ET.parse(path)\n",
        "root = tree.getroot()\n",
        "\n",
        " #total amount of items\n",
        "print(len(root[0]))"
      ],
      "execution_count": 2,
      "outputs": [
        {
          "output_type": "stream",
          "text": [
            "#document\n",
            "<xml.dom.minidom.Document object at 0x7fcecb77c1a0>\n",
            "69\n"
          ],
          "name": "stdout"
        }
      ]
    },
    {
      "cell_type": "markdown",
      "metadata": {
        "id": "AGnGn0DeT7Kf"
      },
      "source": [
        "###Implemento la función loadVariables para cargar los nombres y valores de las variables y los estados en cuatro listas diferentes. (Nombres variables, nombres estado, valor variable, valor estado)"
      ]
    },
    {
      "cell_type": "code",
      "metadata": {
        "colab": {
          "base_uri": "https://localhost:8080/"
        },
        "id": "d_GRho-5ut73",
        "outputId": "327d44c2-023a-426d-df02-158313ce88a5"
      },
      "source": [
        "def loadVariables(rt):\n",
        "  states_names = []\n",
        "  states_values = []\n",
        "  var_names = []\n",
        "  var_values = []\n",
        "\n",
        "  for elm in rt.findall(\"./variables/state\"):\n",
        "    states_names.append(elm.get(\"name\"))\n",
        "    states_values.append(elm.get(\"val\"))\n",
        "  for elm in rt.findall(\"./variables/var\"):\n",
        "    var_names.append(elm.get(\"name\"))\n",
        "    var_values.append(elm.get(\"val\"))\n",
        "  return states_names, states_values, var_names, var_values\n",
        "\n",
        "a, b, c, d = loadVariables(root)\n",
        "print(a)\n",
        "print(b)\n",
        "print(c)\n",
        "print(d)\n"
      ],
      "execution_count": 3,
      "outputs": [
        {
          "output_type": "stream",
          "text": [
            "['V1A', 'V3B', 'V2C', 'V3A', 'V1B', 'H3A', 'H3B', 'H2C', 'H1A', 'H1B', 'SWA', 'SWB', 'RGA', 'RGB', 'OGA', 'OGB', 'DGA', 'DGB', 'TGA', 'TGB', 'ECA', 'ECB', 'ECC', 'ECD', 'HD1', 'HD2', 'STATE_3DG', 'STATE_3', 'STATE_4', 'STATE_5', 'STATE_6', 'STATE_7', 'STATE_8', 'STATE_9', 'STATE_10', 'STATE_10RG', 'STATE_10RB', 'STATE_11', 'STATE_12', 'STATE_13', 'STATE_14', 'STATE_15', 'STATE_16', 'STATE_8B', 'STATE_8C', 'STATE_10A', 'STATE_10A2', 'STATE_10B']\n",
            "['000000000000000000000000000001', '000000000000000000000000000010', '000000000000000000000000000100', '000000000000000000000000001000', '000000000000000000000000010000', '000000000000000000000000100000', '000000000000000000000001000000', '000000000000000000000010000000', '000000000000000000000100000000', '000000000000000000001000000000', '000000000000000000010000000000', '000000000000000000100000000000', '000000000000000001000000000000', '000000000000000010000000000000', '000000000000000100000000000000', '000000000000001000000000000000', '000000000000010000000000000000', '000000000000100000000000000000', '000000000001000000000000000000', '000000000010000000000000000000', '000000001000000000000000000000', '000000010000000000000000000000', '000000100000000000000000000000', '000001000000000000000000000000', '000010000000000000000000000000', '000100000000000000000000000000', 'V1A | V1B |       V3A | V3B | H1A |                   H3B | SWA | SWB | RGA | RGB | OGA | OGB |             TGA | TGB            ', 'V1A | V1B |       V3A | V3B | H1A |                   H3B |             RGA | RGB | OGA | OGB | DGA | DGB | TGA | TGB            ', 'V1A | V1B |       V3A | V3B | H1A |       H2C |       H3B |             RGA | RGB | OGA | OGB | DGA | DGB | TGA | TGB            ', 'V1A | V1B |       V3A | V3B |             H2C |                         RGA | RGB | OGA | OGB | DGA | DGB | TGA | TGB            ', 'V1A | V1B |       V3A | V3B |       H1B | H2C | H3A |                   RGA | RGB | OGA | OGB | DGA | DGB | TGA | TGB            ', 'V1A | V1B |       V3A | V3B |       H1B |       H3A |                   RGA | RGB | OGA | OGB | DGA | DGB | TGA | TGB            ', 'V1A | V1B |       V3A | V3B | H1A | H1B |       H3A | H3B |             RGA | RGB | OGA | OGB | DGA | DGB | TGA | TGB            ', 'V1A | V1B |       V3A | V3B | H1A | H1B |       H3A | H3B | SWA | SWB | RGA | RGB | OGA | OGB | DGA | DGB | TGA | TGB            ', 'V1A | V1B |       V3A | V3B | H1A | H1B |       H3A | H3B |             RGA | RGB | OGA | OGB | DGA | DGB | TGA | TGB            ', 'V1A | V1B |       V3A | V3B | H1A | H1B |       H3A | H3B |                         OGA | OGB | DGA | DGB | TGA | TGB            ', 'V1A | V1B |       V3A | V3B | H1A | H1B |       H3A | H3B |                                     DGA | DGB | TGA | TGB            ', 'V1A | V1B |       V3A | V3B | H1A | H1B |       H3A | H3B | SWA | SWB |                         DGA | DGB                        ', 'V1A | V1B |                   H1A | H1B |       H3A | H3B | SWA | SWB |                         DGA | DGB                        ', 'V1A | V1B | V2C |             H1A | H1B |       H3A | H3B | SWA | SWB |                         DGA | DGB                        ', '            V2C |             H1A | H1B |       H3A | H3B | SWA | SWB |                         DGA | DGB                        ', '            V2C | V3A | V3B | H1A | H1B |       H3A | H3B | SWA | SWB |                         DGA | DGB                        ', '                  V3A | V3B | H1A | H1B |       H3A | H3B | SWA | SWB |                         DGA | DGB | TGA | TGB            ', 'V1A | V1B |       V3A | V3B | H1A | H1B |       H3A | H3B |             RGA | RGB | OGA | OGB | DGA | DGB | TGA | TGB | HD1      ', 'V1A | V1B |       V3A | V3B | H1A | H1B |       H3A | H3B | SWA | SWB | RGA | RGB | OGA | OGB | DGA | DGB | TGA | TGB | HD1      ', 'V1A | V1B |       V3A | V3B | H1A | H1B |       H3A | H3B |             RGA | RGB | OGA | OGB | DGA | DGB | TGA | TGB |       HD2', 'V1A | V1B |       V3A | V3B | H1A | H1B |       H3A | H3B |             RGA | RGB | OGA | OGB | DGA | DGB | TGA | TGB            ', 'V1A | V1B |       V3A | V3B | H1A | H1B |       H3A | H3B | SWA | SWB | RGA | RGB | OGA | OGB | DGA | DGB | TGA | TGB            ']\n",
            "['NROW', 'NCOL', 'NROWREG', 'NCOLREG', 'NSAMP', 'CCDNPRES', 'CCDNROW', 'CCDNCOL', 'delay_idle', 'delay_H_overlap', 'delay_Integ_ped', 'delay_Integ_sig', 'delay_integ_after_SW_high', 'delay_SWhigh', 'delay_SW_after', 'delay_H_after', 'delay_og_low', 'delay_V_Overlap', 'delay_RG_Width', 'delay_RG_after', 'delay_expose']\n",
            "['550', '3200', '550', '200', '1', '7', '1024', '6144', '500', '150', '340', '235', '4', '8', '5', '2', '15', '1500', '15', '5', '15000000']\n"
          ],
          "name": "stdout"
        }
      ]
    },
    {
      "cell_type": "code",
      "metadata": {
        "colab": {
          "base_uri": "https://localhost:8080/"
        },
        "id": "WaAA8mLAzSR2",
        "outputId": "80025a63-6731-4967-e4aa-65ed53321c70"
      },
      "source": [
        "def loadDynamicVariables(rt):\n",
        "  dynVar_names = []\n",
        "  dynVar_values = []\n",
        "  for elm in rt.findall(\"./dynamicVariables/\"):\n",
        "    dynVar_names.append(elm.get(\"name\"))\n",
        "    dynVar_values.append(elm.get(\"vals\"))\n",
        "  return dynVar_names, dynVar_values\n",
        "\n",
        "dyn_name, dyn_val = loadDynamicVariables(root)\n",
        "\n",
        "print(dyn_name)\n",
        "print(dyn_val)"
      ],
      "execution_count": 4,
      "outputs": [
        {
          "output_type": "stream",
          "text": [
            "['x']\n",
            "['NSAMP,NSAMP,NSAMP,NSAMP,NSAMP,NSAMP,NSAMP,NSAMP,NSAMP,NSAMP,NSAMP,NSAMP,NSAMP,NSAMP,NSAMP,NSAMP']\n"
          ],
          "name": "stdout"
        }
      ]
    },
    {
      "cell_type": "code",
      "metadata": {
        "colab": {
          "base_uri": "https://localhost:8080/"
        },
        "id": "QHZIEk-Q2z2M",
        "outputId": "14330186-b692-4b76-d817-2526848d561f"
      },
      "source": [
        "def loadRecipes(rt):\n",
        "  control_names = []\n",
        "  recipes_name = []\n",
        "  recipes_value = []\n",
        "  step_name = []\n",
        "  step_value = []\n",
        "  for elm in rt.findall(\"./recipes/recipe\"):\n",
        "    control_names.append(elm.get(\"name\"))\n",
        "    for sublvl in elm.findall(\"step\"):\n",
        "      step_name.append(sublvl.get(\"state\"))\n",
        "      step_value.append(sublvl.get(\"delay\"))\n",
        "      #print(sublvl.get(\"state\"),sublvl.get(\"delay\"))\n",
        "\n",
        "    recipes_name.append(step_name)\n",
        "    recipes_value.append(step_value)\n",
        "    step_name = []\n",
        "    step_value = []\n",
        "\n",
        "  return control_names, recipes_name, recipes_value\n",
        "\n",
        "control, rec_name, rec_val = loadRecipes(root)\n",
        "#print(rec_name)\n",
        "#print(rec_val)\n",
        "for i in range(len(control)):\n",
        "  print(control[i])\n",
        "  print(rec_name[i], rec_val[i])"
      ],
      "execution_count": 5,
      "outputs": [
        {
          "output_type": "stream",
          "text": [
            "hold\n",
            "['STATE_9'] ['delay_H_overlap']\n",
            "expose\n",
            "['STATE_9'] ['delay_expose']\n",
            "vertical\n",
            "['STATE_11', 'STATE_12', 'STATE_13', 'STATE_14', 'STATE_15', 'STATE_16'] ['delay_V_Overlap', 'delay_V_Overlap', 'delay_V_Overlap', 'delay_V_Overlap', 'delay_V_Overlap', 'delay_V_Overlap']\n",
            "horizontal_step\n",
            "['STATE_9', 'STATE_3DG', 'STATE_4', 'STATE_5', 'STATE_6', 'STATE_7', 'STATE_8', 'STATE_10RG'] ['delay_SWhigh', 'delay_H_overlap', 'delay_H_overlap', 'delay_H_overlap', 'delay_H_overlap', 'delay_H_overlap', 'delay_H_overlap', 'delay_RG_Width']\n",
            "drain\n",
            "['STATE_9', 'STATE_3DG'] ['delay_SWhigh', 'delay_V_Overlap']\n",
            "horizontal\n",
            "['STATE_3', 'STATE_4', 'STATE_5', 'STATE_6', 'STATE_7', 'STATE_8', 'STATE_10RG'] ['delay_H_overlap', 'delay_H_overlap', 'delay_H_overlap', 'delay_H_overlap', 'delay_H_overlap', 'delay_V_Overlap', 'delay_RG_Width']\n",
            "skipper\n",
            "['STATE_8B', 'STATE_8C', 'STATE_9', 'STATE_10A', 'STATE_10RB', 'STATE_10RG'] ['delay_Integ_ped', 'delay_integ_after_SW_high', 'delay_SWhigh', 'delay_Integ_sig', 'delay_og_low', 'delay_RG_Width']\n"
          ],
          "name": "stdout"
        }
      ]
    },
    {
      "cell_type": "code",
      "metadata": {
        "colab": {
          "base_uri": "https://localhost:8080/"
        },
        "id": "P846MX0-AIVG",
        "outputId": "b8d334c2-7fa9-43d4-c648-b962d31d2a55"
      },
      "source": [
        "def loadSequence(rt):\n",
        "  lvl1_name = []\n",
        "  lvl1_n = []\n",
        "  lvl2_name = []\n",
        "  lvl2_n = []\n",
        "  lvl3_name = []\n",
        "  lvl3_n = []\n",
        "  lvl1 = []\n",
        "  lvl2 = []\n",
        "  lvl3 = []\n",
        "  for elm in rt.findall(\"./sequence/recipe\"):\n",
        "    lvl1_name.append(elm.get(\"name\"))\n",
        "    lvl1_n.append(elm.get(\"n\"))\n",
        "    for sublvl in elm.findall(\"recipe\"):\n",
        "      lvl2_name.append(sublvl.get(\"name\"))\n",
        "      lvl2_n.append(sublvl.get(\"n\"))\n",
        "      for sslvl in sublvl.findall(\"recipe\"):\n",
        "        lvl3_name.append(sslvl.get(\"name\"))\n",
        "        lvl3_n.append(sslvl.get(\"n\"))\n",
        "\n",
        "  lvl1.append((lvl1_name, lvl1_n))\n",
        "  lvl2.append((lvl2_name, lvl2_n))\n",
        "  lvl3.append((lvl3_name, lvl3_n))\n",
        "  return lvl1, lvl2, lvl3\n",
        "\n",
        "loop1, loop2, loop3 = loadSequence(root)\n",
        "\n",
        "print(loop1[0][0][0], loop1[0][1][0])\n",
        "print(loop2[0][0][0], loop2[0][1][0])\n",
        "print(loop3[0][0][0], loop3[0][1][0])\n"
      ],
      "execution_count": 6,
      "outputs": [
        {
          "output_type": "stream",
          "text": [
            "vertical NROW\n",
            "horizontal_step NCOL\n",
            "skipper NSAMP\n"
          ],
          "name": "stdout"
        }
      ]
    },
    {
      "cell_type": "code",
      "metadata": {
        "colab": {
          "base_uri": "https://localhost:8080/"
        },
        "id": "H303bhG9Mj6u",
        "outputId": "70fde0ef-ce3e-469c-a837-70a283ea08fb"
      },
      "source": [
        "#for var in variables:\n",
        "     #print(str(var.get(\"Value\")))\n",
        "     #print(vars[i])\n",
        "#     i = i + 1\n",
        "import numpy as np\n",
        "i = 0 \n",
        "states_name = []\n",
        "states_value = []\n",
        "\n",
        "for state in root.iter('state'):\n",
        "    states_name.append(str(state.get(\"name\"))) \n",
        "    states_value.append(str(state.get(\"val\")))\n",
        "print(states_name, states_value)"
      ],
      "execution_count": 7,
      "outputs": [
        {
          "output_type": "stream",
          "text": [
            "['V1A', 'V3B', 'V2C', 'V3A', 'V1B', 'H3A', 'H3B', 'H2C', 'H1A', 'H1B', 'SWA', 'SWB', 'RGA', 'RGB', 'OGA', 'OGB', 'DGA', 'DGB', 'TGA', 'TGB', 'ECA', 'ECB', 'ECC', 'ECD', 'HD1', 'HD2', 'STATE_3DG', 'STATE_3', 'STATE_4', 'STATE_5', 'STATE_6', 'STATE_7', 'STATE_8', 'STATE_9', 'STATE_10', 'STATE_10RG', 'STATE_10RB', 'STATE_11', 'STATE_12', 'STATE_13', 'STATE_14', 'STATE_15', 'STATE_16', 'STATE_8B', 'STATE_8C', 'STATE_10A', 'STATE_10A2', 'STATE_10B'] ['000000000000000000000000000001', '000000000000000000000000000010', '000000000000000000000000000100', '000000000000000000000000001000', '000000000000000000000000010000', '000000000000000000000000100000', '000000000000000000000001000000', '000000000000000000000010000000', '000000000000000000000100000000', '000000000000000000001000000000', '000000000000000000010000000000', '000000000000000000100000000000', '000000000000000001000000000000', '000000000000000010000000000000', '000000000000000100000000000000', '000000000000001000000000000000', '000000000000010000000000000000', '000000000000100000000000000000', '000000000001000000000000000000', '000000000010000000000000000000', '000000001000000000000000000000', '000000010000000000000000000000', '000000100000000000000000000000', '000001000000000000000000000000', '000010000000000000000000000000', '000100000000000000000000000000', 'V1A | V1B |       V3A | V3B | H1A |                   H3B | SWA | SWB | RGA | RGB | OGA | OGB |             TGA | TGB            ', 'V1A | V1B |       V3A | V3B | H1A |                   H3B |             RGA | RGB | OGA | OGB | DGA | DGB | TGA | TGB            ', 'V1A | V1B |       V3A | V3B | H1A |       H2C |       H3B |             RGA | RGB | OGA | OGB | DGA | DGB | TGA | TGB            ', 'V1A | V1B |       V3A | V3B |             H2C |                         RGA | RGB | OGA | OGB | DGA | DGB | TGA | TGB            ', 'V1A | V1B |       V3A | V3B |       H1B | H2C | H3A |                   RGA | RGB | OGA | OGB | DGA | DGB | TGA | TGB            ', 'V1A | V1B |       V3A | V3B |       H1B |       H3A |                   RGA | RGB | OGA | OGB | DGA | DGB | TGA | TGB            ', 'V1A | V1B |       V3A | V3B | H1A | H1B |       H3A | H3B |             RGA | RGB | OGA | OGB | DGA | DGB | TGA | TGB            ', 'V1A | V1B |       V3A | V3B | H1A | H1B |       H3A | H3B | SWA | SWB | RGA | RGB | OGA | OGB | DGA | DGB | TGA | TGB            ', 'V1A | V1B |       V3A | V3B | H1A | H1B |       H3A | H3B |             RGA | RGB | OGA | OGB | DGA | DGB | TGA | TGB            ', 'V1A | V1B |       V3A | V3B | H1A | H1B |       H3A | H3B |                         OGA | OGB | DGA | DGB | TGA | TGB            ', 'V1A | V1B |       V3A | V3B | H1A | H1B |       H3A | H3B |                                     DGA | DGB | TGA | TGB            ', 'V1A | V1B |       V3A | V3B | H1A | H1B |       H3A | H3B | SWA | SWB |                         DGA | DGB                        ', 'V1A | V1B |                   H1A | H1B |       H3A | H3B | SWA | SWB |                         DGA | DGB                        ', 'V1A | V1B | V2C |             H1A | H1B |       H3A | H3B | SWA | SWB |                         DGA | DGB                        ', '            V2C |             H1A | H1B |       H3A | H3B | SWA | SWB |                         DGA | DGB                        ', '            V2C | V3A | V3B | H1A | H1B |       H3A | H3B | SWA | SWB |                         DGA | DGB                        ', '                  V3A | V3B | H1A | H1B |       H3A | H3B | SWA | SWB |                         DGA | DGB | TGA | TGB            ', 'V1A | V1B |       V3A | V3B | H1A | H1B |       H3A | H3B |             RGA | RGB | OGA | OGB | DGA | DGB | TGA | TGB | HD1      ', 'V1A | V1B |       V3A | V3B | H1A | H1B |       H3A | H3B | SWA | SWB | RGA | RGB | OGA | OGB | DGA | DGB | TGA | TGB | HD1      ', 'V1A | V1B |       V3A | V3B | H1A | H1B |       H3A | H3B |             RGA | RGB | OGA | OGB | DGA | DGB | TGA | TGB |       HD2', 'V1A | V1B |       V3A | V3B | H1A | H1B |       H3A | H3B |             RGA | RGB | OGA | OGB | DGA | DGB | TGA | TGB            ', 'V1A | V1B |       V3A | V3B | H1A | H1B |       H3A | H3B | SWA | SWB | RGA | RGB | OGA | OGB | DGA | DGB | TGA | TGB            ']\n"
          ],
          "name": "stdout"
        }
      ]
    },
    {
      "cell_type": "code",
      "metadata": {
        "colab": {
          "base_uri": "https://localhost:8080/"
        },
        "id": "myT4iBGJZVW_",
        "outputId": "93bf7952-4060-4a93-c13e-d0c93693b866"
      },
      "source": [
        "import numpy as np\n",
        "i = 0 \n",
        "variables_name = []\n",
        "variables_value = []\n",
        "\n",
        "for var in root.iter('var'):\n",
        "    variables_name.append(str(var.get(\"name\"))) \n",
        "    variables_value.append(str(var.get(\"val\")))\n",
        "print(variables_name, variables_value)"
      ],
      "execution_count": null,
      "outputs": [
        {
          "output_type": "stream",
          "text": [
            "['NROW', 'NCOL', 'NROWREG', 'NCOLREG', 'NSAMP', 'CCDNPRES', 'CCDNROW', 'CCDNCOL', 'delay_idle', 'delay_H_overlap', 'delay_Integ_ped', 'delay_Integ_sig', 'delay_integ_after_SW_high', 'delay_SWhigh', 'delay_SW_after', 'delay_H_after', 'delay_og_low', 'delay_V_Overlap', 'delay_RG_Width', 'delay_RG_after', 'delay_expose', 'x'] ['550', '3200', '550', '200', '1', '7', '1024', '6144', '500', '150', '340', '235', '4', '8', '5', '2', '15', '1500', '15', '5', '15000000', 'None']\n"
          ],
          "name": "stdout"
        }
      ]
    },
    {
      "cell_type": "code",
      "metadata": {
        "colab": {
          "base_uri": "https://localhost:8080/"
        },
        "id": "jgfExTBBk5hv",
        "outputId": "323b1ae1-556b-4681-96bf-89ff95fe6abf"
      },
      "source": [
        "variables = root.getchildren()\n",
        "if ( variables  == None ):\n",
        "  raise Exception(\"Missing \\'variables\\' in sequencer file.\")\n"
      ],
      "execution_count": null,
      "outputs": [
        {
          "output_type": "stream",
          "text": [
            "/usr/local/lib/python3.7/dist-packages/ipykernel_launcher.py:1: DeprecationWarning: This method will be removed in future versions.  Use 'list(elem)' or iteration over elem instead.\n",
            "  \"\"\"Entry point for launching an IPython kernel.\n"
          ],
          "name": "stderr"
        }
      ]
    },
    {
      "cell_type": "code",
      "metadata": {
        "colab": {
          "base_uri": "https://localhost:8080/"
        },
        "id": "yy23472Vtjxn",
        "outputId": "8db12442-ee66-4a6e-d0b8-4f9ff4905487"
      },
      "source": [
        "import numpy as np\n",
        "i = 0 \n",
        "states = np.empty(48, dtype=object)\n",
        "for state in root.iter('state'):\n",
        "    states[i] = state.attrib\n",
        "    print(state.attrib)\n",
        "    i= i + 1"
      ],
      "execution_count": null,
      "outputs": [
        {
          "output_type": "stream",
          "text": [
            "{'name': 'V1A', 'val': '000000000000000000000000000001'}\n",
            "{'name': 'V3B', 'val': '000000000000000000000000000010'}\n",
            "{'name': 'V2C', 'val': '000000000000000000000000000100'}\n",
            "{'name': 'V3A', 'val': '000000000000000000000000001000'}\n",
            "{'name': 'V1B', 'val': '000000000000000000000000010000'}\n",
            "{'name': 'H3A', 'val': '000000000000000000000000100000'}\n",
            "{'name': 'H3B', 'val': '000000000000000000000001000000'}\n",
            "{'name': 'H2C', 'val': '000000000000000000000010000000'}\n",
            "{'name': 'H1A', 'val': '000000000000000000000100000000'}\n",
            "{'name': 'H1B', 'val': '000000000000000000001000000000'}\n",
            "{'name': 'SWA', 'val': '000000000000000000010000000000'}\n",
            "{'name': 'SWB', 'val': '000000000000000000100000000000'}\n",
            "{'name': 'RGA', 'val': '000000000000000001000000000000'}\n",
            "{'name': 'RGB', 'val': '000000000000000010000000000000'}\n",
            "{'name': 'OGA', 'val': '000000000000000100000000000000'}\n",
            "{'name': 'OGB', 'val': '000000000000001000000000000000'}\n",
            "{'name': 'DGA', 'val': '000000000000010000000000000000'}\n",
            "{'name': 'DGB', 'val': '000000000000100000000000000000'}\n",
            "{'name': 'TGA', 'val': '000000000001000000000000000000'}\n",
            "{'name': 'TGB', 'val': '000000000010000000000000000000'}\n",
            "{'name': 'ECA', 'val': '000000001000000000000000000000'}\n",
            "{'name': 'ECB', 'val': '000000010000000000000000000000'}\n",
            "{'name': 'ECC', 'val': '000000100000000000000000000000'}\n",
            "{'name': 'ECD', 'val': '000001000000000000000000000000'}\n",
            "{'name': 'HD1', 'val': '000010000000000000000000000000'}\n",
            "{'name': 'HD2', 'val': '000100000000000000000000000000'}\n",
            "{'name': 'STATE_3DG', 'val': 'V1A | V1B |       V3A | V3B | H1A |                   H3B | SWA | SWB | RGA | RGB | OGA | OGB |             TGA | TGB            '}\n",
            "{'name': 'STATE_3', 'val': 'V1A | V1B |       V3A | V3B | H1A |                   H3B |             RGA | RGB | OGA | OGB | DGA | DGB | TGA | TGB            '}\n",
            "{'name': 'STATE_4', 'val': 'V1A | V1B |       V3A | V3B | H1A |       H2C |       H3B |             RGA | RGB | OGA | OGB | DGA | DGB | TGA | TGB            '}\n",
            "{'name': 'STATE_5', 'val': 'V1A | V1B |       V3A | V3B |             H2C |                         RGA | RGB | OGA | OGB | DGA | DGB | TGA | TGB            '}\n",
            "{'name': 'STATE_6', 'val': 'V1A | V1B |       V3A | V3B |       H1B | H2C | H3A |                   RGA | RGB | OGA | OGB | DGA | DGB | TGA | TGB            '}\n",
            "{'name': 'STATE_7', 'val': 'V1A | V1B |       V3A | V3B |       H1B |       H3A |                   RGA | RGB | OGA | OGB | DGA | DGB | TGA | TGB            '}\n",
            "{'name': 'STATE_8', 'val': 'V1A | V1B |       V3A | V3B | H1A | H1B |       H3A | H3B |             RGA | RGB | OGA | OGB | DGA | DGB | TGA | TGB            '}\n",
            "{'name': 'STATE_9', 'val': 'V1A | V1B |       V3A | V3B | H1A | H1B |       H3A | H3B | SWA | SWB | RGA | RGB | OGA | OGB | DGA | DGB | TGA | TGB            '}\n",
            "{'name': 'STATE_10', 'val': 'V1A | V1B |       V3A | V3B | H1A | H1B |       H3A | H3B |             RGA | RGB | OGA | OGB | DGA | DGB | TGA | TGB            '}\n",
            "{'name': 'STATE_10RG', 'val': 'V1A | V1B |       V3A | V3B | H1A | H1B |       H3A | H3B |                         OGA | OGB | DGA | DGB | TGA | TGB            '}\n",
            "{'name': 'STATE_10RB', 'val': 'V1A | V1B |       V3A | V3B | H1A | H1B |       H3A | H3B |                                     DGA | DGB | TGA | TGB            '}\n",
            "{'name': 'STATE_11', 'val': 'V1A | V1B |       V3A | V3B | H1A | H1B |       H3A | H3B | SWA | SWB |                         DGA | DGB                        '}\n",
            "{'name': 'STATE_12', 'val': 'V1A | V1B |                   H1A | H1B |       H3A | H3B | SWA | SWB |                         DGA | DGB                        '}\n",
            "{'name': 'STATE_13', 'val': 'V1A | V1B | V2C |             H1A | H1B |       H3A | H3B | SWA | SWB |                         DGA | DGB                        '}\n",
            "{'name': 'STATE_14', 'val': '            V2C |             H1A | H1B |       H3A | H3B | SWA | SWB |                         DGA | DGB                        '}\n",
            "{'name': 'STATE_15', 'val': '            V2C | V3A | V3B | H1A | H1B |       H3A | H3B | SWA | SWB |                         DGA | DGB                        '}\n",
            "{'name': 'STATE_16', 'val': '                  V3A | V3B | H1A | H1B |       H3A | H3B | SWA | SWB |                         DGA | DGB | TGA | TGB            '}\n",
            "{'name': 'STATE_8B', 'val': 'V1A | V1B |       V3A | V3B | H1A | H1B |       H3A | H3B |             RGA | RGB | OGA | OGB | DGA | DGB | TGA | TGB | HD1      '}\n",
            "{'name': 'STATE_8C', 'val': 'V1A | V1B |       V3A | V3B | H1A | H1B |       H3A | H3B | SWA | SWB | RGA | RGB | OGA | OGB | DGA | DGB | TGA | TGB | HD1      '}\n",
            "{'name': 'STATE_10A', 'val': 'V1A | V1B |       V3A | V3B | H1A | H1B |       H3A | H3B |             RGA | RGB | OGA | OGB | DGA | DGB | TGA | TGB |       HD2'}\n",
            "{'name': 'STATE_10A2', 'val': 'V1A | V1B |       V3A | V3B | H1A | H1B |       H3A | H3B |             RGA | RGB | OGA | OGB | DGA | DGB | TGA | TGB            '}\n",
            "{'name': 'STATE_10B', 'val': 'V1A | V1B |       V3A | V3B | H1A | H1B |       H3A | H3B | SWA | SWB | RGA | RGB | OGA | OGB | DGA | DGB | TGA | TGB            '}\n"
          ],
          "name": "stdout"
        }
      ]
    },
    {
      "cell_type": "code",
      "metadata": {
        "id": "ac5WTAJQrvT_"
      },
      "source": [
        "import re\n",
        "\n",
        "i = 0 \n",
        "vars = np.empty(22, dtype=object)\n",
        "\n",
        "vars2 = np.empty(22, dtype=str)\n",
        "\n",
        "for var in root.iter('var'):\n",
        "     vars[i] = var.attrib\n",
        "     #print(vars[i])\n",
        "     i = i + 1\n",
        "\n",
        "\n",
        "vars2 = \"\"\n",
        "final =\"\"\n",
        "vars = vars[0:21]\n",
        "\n",
        "for i in range(len(str(vars))):\n",
        "    vars2 += str(vars)[i]\n",
        "\n",
        "for i in range(len(vars2)):\n",
        "    if vars2[i] == \":\" or vars2[i] == \"\\n\":\n",
        "        final += \",\"\n",
        "    elif vars2[i] != \"'\" and vars2[i] != \"{\" and vars2[i] != \"}\" and vars2[i] != \"[\" and vars2[i] != \"]\":\n",
        "        final += vars2[i]\n",
        "\n",
        "final_vars = \"\"    \n",
        "for i in range(len(final)):\n",
        "    if final[i] == \" \" and final[i-1] != \",\" and final[i+1] != \",\":\n",
        "      final_vars += \", \"\n",
        "    else:\n",
        "      final_vars+= final[i]\n",
        "\n",
        "count = 0\n",
        "aux = \"\"\n",
        "for i in range(len(final_vars)):\n",
        "    if final_vars[i] == \",\":\n",
        "      count = count+1\n",
        "    if count == 4 :\n",
        "      count = 0\n",
        "      aux += \",\\n\"\n",
        "    elif final_vars[i] !=\" \":\n",
        "      aux += final_vars[i]\n",
        "\n",
        "final_vars =\"names,state,val,value,\\n\"+ aux +\",\"\n",
        "\n",
        "#Ahora que ya tengo mi csv almacenado en final_vars, armo un pandas a partir de final_vars  \n"
      ],
      "execution_count": null,
      "outputs": []
    },
    {
      "cell_type": "code",
      "metadata": {
        "colab": {
          "base_uri": "https://localhost:8080/",
          "height": 86
        },
        "id": "AzSmQi1356kt",
        "outputId": "85394342-b400-4ba0-8780-9f9c962e079d"
      },
      "source": [
        "final_vars"
      ],
      "execution_count": null,
      "outputs": [
        {
          "output_type": "execute_result",
          "data": {
            "application/vnd.google.colaboratory.intrinsic+json": {
              "type": "string"
            },
            "text/plain": [
              "'names,state,val,value,\\nname,NROW,val,550,\\nname,NCOL,val,3200,\\nname,NROWREG,val,550,\\nname,NCOLREG,val,200,\\nname,NSAMP,val,1,\\nname,CCDNPRES,val,7,\\nname,CCDNROW,val,1024,\\nname,CCDNCOL,val,6144,\\nname,delay_idle,val,500,\\nname,delay_H_overlap,val,150,\\nname,delay_Integ_ped,val,340,\\nname,delay_Integ_sig,val,235,\\nname,delay_integ_after_SW_high,val,4,\\nname,delay_SWhigh,val,8,\\nname,delay_SW_after,val,5,\\nname,delay_H_after,val,2,\\nname,delay_og_low,val,15,\\nname,delay_V_Overlap,val,1500,\\nname,delay_RG_Width,val,15,\\nname,delay_RG_after,val,5,\\nname,delay_expose,val,15000000,'"
            ]
          },
          "metadata": {
            "tags": []
          },
          "execution_count": 11
        }
      ]
    },
    {
      "cell_type": "code",
      "metadata": {
        "id": "oUEg8fyHPENf"
      },
      "source": [
        "save_path = '/content/gdrive/My Drive/Sequencer_Files/final_vars.csv'\n",
        "f = open(save_path,'w')\n",
        "f.write(final_vars) #Give your csv text here.\n",
        "## Python will convert \\n to os.linesep\n",
        "f.close()"
      ],
      "execution_count": null,
      "outputs": []
    },
    {
      "cell_type": "code",
      "metadata": {
        "colab": {
          "base_uri": "https://localhost:8080/",
          "height": 669
        },
        "id": "3v95PCXcqZ6o",
        "outputId": "2627435e-4d67-4834-8365-762b0d7356de"
      },
      "source": [
        "import pandas as pd\n",
        "col_names = ['state', 'value']\n",
        "save_path = '/content/gdrive/My Drive/Sequencer_Files/final_vars.csv'\n",
        "df = pd.read_csv(save_path)\n",
        "df = df[col_names]\n",
        "df"
      ],
      "execution_count": null,
      "outputs": [
        {
          "output_type": "execute_result",
          "data": {
            "text/html": [
              "<div>\n",
              "<style scoped>\n",
              "    .dataframe tbody tr th:only-of-type {\n",
              "        vertical-align: middle;\n",
              "    }\n",
              "\n",
              "    .dataframe tbody tr th {\n",
              "        vertical-align: top;\n",
              "    }\n",
              "\n",
              "    .dataframe thead th {\n",
              "        text-align: right;\n",
              "    }\n",
              "</style>\n",
              "<table border=\"1\" class=\"dataframe\">\n",
              "  <thead>\n",
              "    <tr style=\"text-align: right;\">\n",
              "      <th></th>\n",
              "      <th>state</th>\n",
              "      <th>value</th>\n",
              "    </tr>\n",
              "  </thead>\n",
              "  <tbody>\n",
              "    <tr>\n",
              "      <th>0</th>\n",
              "      <td>NROW</td>\n",
              "      <td>550</td>\n",
              "    </tr>\n",
              "    <tr>\n",
              "      <th>1</th>\n",
              "      <td>NCOL</td>\n",
              "      <td>3200</td>\n",
              "    </tr>\n",
              "    <tr>\n",
              "      <th>2</th>\n",
              "      <td>NROWREG</td>\n",
              "      <td>550</td>\n",
              "    </tr>\n",
              "    <tr>\n",
              "      <th>3</th>\n",
              "      <td>NCOLREG</td>\n",
              "      <td>200</td>\n",
              "    </tr>\n",
              "    <tr>\n",
              "      <th>4</th>\n",
              "      <td>NSAMP</td>\n",
              "      <td>1</td>\n",
              "    </tr>\n",
              "    <tr>\n",
              "      <th>5</th>\n",
              "      <td>CCDNPRES</td>\n",
              "      <td>7</td>\n",
              "    </tr>\n",
              "    <tr>\n",
              "      <th>6</th>\n",
              "      <td>CCDNROW</td>\n",
              "      <td>1024</td>\n",
              "    </tr>\n",
              "    <tr>\n",
              "      <th>7</th>\n",
              "      <td>CCDNCOL</td>\n",
              "      <td>6144</td>\n",
              "    </tr>\n",
              "    <tr>\n",
              "      <th>8</th>\n",
              "      <td>delay_idle</td>\n",
              "      <td>500</td>\n",
              "    </tr>\n",
              "    <tr>\n",
              "      <th>9</th>\n",
              "      <td>delay_H_overlap</td>\n",
              "      <td>150</td>\n",
              "    </tr>\n",
              "    <tr>\n",
              "      <th>10</th>\n",
              "      <td>delay_Integ_ped</td>\n",
              "      <td>340</td>\n",
              "    </tr>\n",
              "    <tr>\n",
              "      <th>11</th>\n",
              "      <td>delay_Integ_sig</td>\n",
              "      <td>235</td>\n",
              "    </tr>\n",
              "    <tr>\n",
              "      <th>12</th>\n",
              "      <td>delay_integ_after_SW_high</td>\n",
              "      <td>4</td>\n",
              "    </tr>\n",
              "    <tr>\n",
              "      <th>13</th>\n",
              "      <td>delay_SWhigh</td>\n",
              "      <td>8</td>\n",
              "    </tr>\n",
              "    <tr>\n",
              "      <th>14</th>\n",
              "      <td>delay_SW_after</td>\n",
              "      <td>5</td>\n",
              "    </tr>\n",
              "    <tr>\n",
              "      <th>15</th>\n",
              "      <td>delay_H_after</td>\n",
              "      <td>2</td>\n",
              "    </tr>\n",
              "    <tr>\n",
              "      <th>16</th>\n",
              "      <td>delay_og_low</td>\n",
              "      <td>15</td>\n",
              "    </tr>\n",
              "    <tr>\n",
              "      <th>17</th>\n",
              "      <td>delay_V_Overlap</td>\n",
              "      <td>1500</td>\n",
              "    </tr>\n",
              "    <tr>\n",
              "      <th>18</th>\n",
              "      <td>delay_RG_Width</td>\n",
              "      <td>15</td>\n",
              "    </tr>\n",
              "    <tr>\n",
              "      <th>19</th>\n",
              "      <td>delay_RG_after</td>\n",
              "      <td>5</td>\n",
              "    </tr>\n",
              "    <tr>\n",
              "      <th>20</th>\n",
              "      <td>delay_expose</td>\n",
              "      <td>15000000</td>\n",
              "    </tr>\n",
              "  </tbody>\n",
              "</table>\n",
              "</div>"
            ],
            "text/plain": [
              "                        state     value\n",
              "0                        NROW       550\n",
              "1                        NCOL      3200\n",
              "2                     NROWREG       550\n",
              "3                     NCOLREG       200\n",
              "4                       NSAMP         1\n",
              "5                    CCDNPRES         7\n",
              "6                     CCDNROW      1024\n",
              "7                     CCDNCOL      6144\n",
              "8                  delay_idle       500\n",
              "9             delay_H_overlap       150\n",
              "10            delay_Integ_ped       340\n",
              "11            delay_Integ_sig       235\n",
              "12  delay_integ_after_SW_high         4\n",
              "13               delay_SWhigh         8\n",
              "14             delay_SW_after         5\n",
              "15              delay_H_after         2\n",
              "16               delay_og_low        15\n",
              "17            delay_V_Overlap      1500\n",
              "18             delay_RG_Width        15\n",
              "19             delay_RG_after         5\n",
              "20               delay_expose  15000000"
            ]
          },
          "metadata": {
            "tags": []
          },
          "execution_count": 13
        }
      ]
    },
    {
      "cell_type": "code",
      "metadata": {
        "colab": {
          "base_uri": "https://localhost:8080/"
        },
        "id": "hS6FcGfXd7TB",
        "outputId": "ac244a90-3bfa-4390-9aca-cc59d12da203"
      },
      "source": [
        "df.at[8, 'value']"
      ],
      "execution_count": null,
      "outputs": [
        {
          "output_type": "execute_result",
          "data": {
            "text/plain": [
              "500"
            ]
          },
          "metadata": {
            "tags": []
          },
          "execution_count": 14
        }
      ]
    },
    {
      "cell_type": "code",
      "metadata": {
        "colab": {
          "base_uri": "https://localhost:8080/",
          "height": 246
        },
        "id": "iTxwhl3fwvKU",
        "outputId": "0f553eee-f671-4107-8a24-3b76340e7d4f"
      },
      "source": [
        "#for recipe in root.iter('recipe'):\n",
        "#     print(recipe.attrib)\n",
        "\n",
        "stepsList = []\n",
        "i = 0 \n",
        "\n",
        "for step in root.iter('step'):\n",
        "      print(step.attrib)\n",
        "      stepsList[i] = step.attrib\n",
        "      i += 1\n",
        "print(stepsList)"
      ],
      "execution_count": null,
      "outputs": [
        {
          "output_type": "stream",
          "text": [
            "{'state': 'STATE_9', 'delay': 'delay_H_overlap'}\n"
          ],
          "name": "stdout"
        },
        {
          "output_type": "error",
          "ename": "IndexError",
          "evalue": "ignored",
          "traceback": [
            "\u001b[0;31m---------------------------------------------------------------------------\u001b[0m",
            "\u001b[0;31mIndexError\u001b[0m                                Traceback (most recent call last)",
            "\u001b[0;32m<ipython-input-21-5216f4e3bb79>\u001b[0m in \u001b[0;36m<module>\u001b[0;34m()\u001b[0m\n\u001b[1;32m      7\u001b[0m \u001b[0;32mfor\u001b[0m \u001b[0mstep\u001b[0m \u001b[0;32min\u001b[0m \u001b[0mroot\u001b[0m\u001b[0;34m.\u001b[0m\u001b[0miter\u001b[0m\u001b[0;34m(\u001b[0m\u001b[0;34m'step'\u001b[0m\u001b[0;34m)\u001b[0m\u001b[0;34m:\u001b[0m\u001b[0;34m\u001b[0m\u001b[0;34m\u001b[0m\u001b[0m\n\u001b[1;32m      8\u001b[0m       \u001b[0mprint\u001b[0m\u001b[0;34m(\u001b[0m\u001b[0mstep\u001b[0m\u001b[0;34m.\u001b[0m\u001b[0mattrib\u001b[0m\u001b[0;34m)\u001b[0m\u001b[0;34m\u001b[0m\u001b[0;34m\u001b[0m\u001b[0m\n\u001b[0;32m----> 9\u001b[0;31m       \u001b[0mstepsList\u001b[0m\u001b[0;34m[\u001b[0m\u001b[0mi\u001b[0m\u001b[0;34m]\u001b[0m \u001b[0;34m=\u001b[0m \u001b[0mstep\u001b[0m\u001b[0;34m.\u001b[0m\u001b[0mattrib\u001b[0m\u001b[0;34m\u001b[0m\u001b[0;34m\u001b[0m\u001b[0m\n\u001b[0m\u001b[1;32m     10\u001b[0m       \u001b[0mi\u001b[0m \u001b[0;34m+=\u001b[0m \u001b[0;36m1\u001b[0m\u001b[0;34m\u001b[0m\u001b[0;34m\u001b[0m\u001b[0m\n\u001b[1;32m     11\u001b[0m \u001b[0mprint\u001b[0m\u001b[0;34m(\u001b[0m\u001b[0mstepsList\u001b[0m\u001b[0;34m)\u001b[0m\u001b[0;34m\u001b[0m\u001b[0;34m\u001b[0m\u001b[0m\n",
            "\u001b[0;31mIndexError\u001b[0m: list assignment index out of range"
          ]
        }
      ]
    },
    {
      "cell_type": "code",
      "metadata": {
        "id": "9PeC2vUbw5Hd"
      },
      "source": [
        ""
      ],
      "execution_count": null,
      "outputs": []
    },
    {
      "cell_type": "code",
      "metadata": {
        "colab": {
          "base_uri": "https://localhost:8080/"
        },
        "id": "Fl_w2dfsjSu6",
        "outputId": "309b5ad8-159c-4aab-8174-5d6639180c54"
      },
      "source": [
        "!pip install ssxtd"
      ],
      "execution_count": null,
      "outputs": [
        {
          "output_type": "stream",
          "text": [
            "Collecting ssxtd\n",
            "  Downloading https://files.pythonhosted.org/packages/d0/e5/7dd0db1373de57288cede737bd9ca130205fd733d20849ef57855aeafea4/ssxtd-1.1.0-py2.py3-none-any.whl\n",
            "Requirement already satisfied: tqdm in /usr/local/lib/python3.7/dist-packages (from ssxtd) (4.41.1)\n",
            "Requirement already satisfied: bs4 in /usr/local/lib/python3.7/dist-packages (from ssxtd) (0.0.1)\n",
            "Requirement already satisfied: beautifulsoup4 in /usr/local/lib/python3.7/dist-packages (from bs4->ssxtd) (4.6.3)\n",
            "Installing collected packages: ssxtd\n",
            "Successfully installed ssxtd-1.1.0\n"
          ],
          "name": "stdout"
        }
      ]
    },
    {
      "cell_type": "code",
      "metadata": {
        "id": "H__UBmlVlF9W"
      },
      "source": [
        "from ssxtd import parsers\n",
        "path = \"/content/gdrive/My Drive/Sequencer_Files/sequencer_background.xml\"\n",
        "result = next(parsers.xml_parse(path, depth=1))"
      ],
      "execution_count": null,
      "outputs": []
    },
    {
      "cell_type": "code",
      "metadata": {
        "id": "13MlFfOioASX"
      },
      "source": [
        ""
      ],
      "execution_count": null,
      "outputs": []
    }
  ]
}